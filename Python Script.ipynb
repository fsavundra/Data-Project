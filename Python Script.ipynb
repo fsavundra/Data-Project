{
 "cells": [
  {
   "cell_type": "code",
   "execution_count": null,
   "metadata": {},
   "outputs": [],
   "source": [
    "import numpy as np\n",
    "import pandas as pd\n",
    "pd.set_option('display.max_columns', None)\n",
    "import matplotlib.pyplot as plt\n",
    "import seaborn as sns\n",
    "\n",
    "from sklearn.model_selection import StratifiedKFold, cross_validate, learning_curve, RandomizedSearchCV, train_test_split\n",
    "from sklearn.metrics import f1_score, roc_auc_score, plot_confusion_matrix, accuracy_score\n",
    "from sklearn.pipeline import Pipeline, make_pipeline\n",
    "from sklearn.impute import SimpleImputer\n",
    "from sklearn.preprocessing import StandardScaler\n",
    "from sklearn.linear_model import LogisticRegression\n",
    "from sklearn.ensemble import RandomForestClassifier, GradientBoostingClassifier, AdaBoostClassifier\n",
    "from sklearn.svm import SVC\n",
    "from sklearn.neural_network import MLPClassifier\n",
    "from sklearn.neighbors import KNeighborsClassifier\n",
    "from sklearn.naive_bayes import GaussianNB\n",
    "\n",
    "\n",
    "import os"
   ]
  },
  {
   "cell_type": "code",
   "execution_count": null,
   "metadata": {},
   "outputs": [],
   "source": [
    "ds = pd.read_csv('data.csv', index_col=[0])\n",
    "ds.drop(columns='Index', inplace=True)"
   ]
  },
  {
   "cell_type": "code",
   "execution_count": null,
   "metadata": {},
   "outputs": [],
   "source": [
    "# are classes balanced?\n",
    "print('class : count : percent')\n",
    "print('0     : {}  : {:.2%}'.format(sum(ds['FLAG']==0), sum(ds['FLAG']==0)/len(ds['FLAG']) ))\n",
    "print('1     : {}  : {:.2%}'.format(sum(ds['FLAG']==1), sum(ds['FLAG']==1)/len(ds['FLAG']) ))\n",
    "\n",
    "sns.heatmap(ds.iloc[:,:1])\n",
    "plt.show()"
   ]
  },
  {
   "cell_type": "code",
   "execution_count": null,
   "metadata": {},
   "outputs": [],
   "source": [
    "print(ds.shape)\n",
    "ds.sample(5)"
   ]
  },
  {
   "cell_type": "code",
   "execution_count": null,
   "metadata": {},
   "outputs": [],
   "source": [
    "# column names\n",
    "display(ds.columns)\n",
    "\n",
    "# describtion of numeratic columns\n",
    "display(ds.describe())\n",
    "\n",
    "# Non-Null Count and type of columns\n",
    "display(ds.info())"
   ]
  },
  {
   "cell_type": "code",
   "execution_count": null,
   "metadata": {},
   "outputs": [],
   "source": [
    "# How many non-unique adresses?\n",
    "_, uniq_idx, counts = np.unique(ds['Address'].to_numpy(), return_index=True, return_counts=True)\n",
    "non_unique_addresses_idx = uniq_idx[counts > 1]\n",
    "print(\"non-unique adresses count: {}\".format(len(non_unique_addresses_idx), end='\\n\\n'))\n",
    "# What are the flags of non-uniqe adresses\n",
    "non_unique_addresses_flags = ds.iloc[non_unique_addresses_idx]['FLAG']\n",
    "print(\"flags of non-unique adresses: \", end='')\n",
    "print(*non_unique_addresses_flags)\n",
    "\n",
    "ds.drop(columns='Address', inplace=True)"
   ]
  },
  {
   "cell_type": "code",
   "execution_count": null,
   "metadata": {},
   "outputs": [],
   "source": [
    "display(np.unique(ds[' ERC20 most sent token type'].astype(str)))\n",
    "display(np.unique(ds[' ERC20_most_rec_token_type'].astype(str)))\n",
    "\n",
    "ds.drop(columns=[' ERC20 most sent token type', ' ERC20_most_rec_token_type'], inplace=True)"
   ]
  },
  {
   "cell_type": "code",
   "execution_count": null,
   "metadata": {},
   "outputs": [],
   "source": [
    "#deteling columns that hold zero\n",
    "\n",
    "ds.drop(columns=[' ERC20 avg time between rec tnx', ' ERC20 avg time between rec 2 tnx', ' ERC20 avg time between contract tnx',\n",
    "                 ' ERC20 min val sent contract', ' ERC20 max val sent contract', ' ERC20 avg val sent contract', ' ERC20 avg time between sent tnx'], inplace=True)"
   ]
  },
  {
   "cell_type": "code",
   "execution_count": null,
   "metadata": {},
   "outputs": [],
   "source": [
    "# missing values\n",
    "missing_values = ds.isna()\n",
    "missing_percent = missing_values.sum() / ds.shape[0] * 100\n",
    "missing_df = pd.DataFrame([missing_values.sum(), missing_percent], ['count', 'percent'])\n",
    "display(missing_df.sort_values(by='percent', axis=1, ascending=False))\n",
    "missing_df.sort_values(by='percent', axis=1, ascending=False).to_csv('missing.csv')\n",
    "\n",
    "sns.heatmap(missing_values, cbar=False, cmap='magma')\n",
    "plt.show()"
   ]
  },
  {
   "cell_type": "code",
   "execution_count": null,
   "metadata": {},
   "outputs": [],
   "source": [
    "non_fraud_rows, fraud_rows = np.where( [ds.iloc[:,0]==1] )\n",
    "print(ds.iloc[fraud_rows,:].isna().sum()[-20:])"
   ]
  },
  {
   "cell_type": "code",
   "execution_count": null,
   "metadata": {},
   "outputs": [],
   "source": [
    "missing_columns = ds.columns[ds.isna().sum() > 0]"
   ]
  },
  {
   "cell_type": "code",
   "execution_count": null,
   "metadata": {},
   "outputs": [],
   "source": [
    "# correlation\n",
    "corr = ds.corr()\n",
    "plt.figure(figsize=(20,12))\n",
    "sns.heatmap(np.abs(corr), cmap='coolwarm')\n",
    "plt.show()"
   ]
  }
 ],
 "metadata": {
  "kernelspec": {
   "display_name": "Python 3",
   "language": "python",
   "name": "python3"
  },
  "language_info": {
   "codemirror_mode": {
    "name": "ipython",
    "version": 3
   },
   "file_extension": ".py",
   "mimetype": "text/x-python",
   "name": "python",
   "nbconvert_exporter": "python",
   "pygments_lexer": "ipython3",
   "version": "3.8.5"
  }
 },
 "nbformat": 4,
 "nbformat_minor": 4
}
